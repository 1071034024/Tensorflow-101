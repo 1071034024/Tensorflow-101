{
 "cells": [
  {
   "cell_type": "code",
   "execution_count": 1,
   "metadata": {
    "collapsed": false
   },
   "outputs": [
    {
     "name": "stdout",
     "output_type": "stream",
     "text": [
      "Packages Imported\n"
     ]
    }
   ],
   "source": [
    "# -*- coding: utf-8 -*-\n",
    "# Import Packages\n",
    "import numpy as np\n",
    "import tensorflow as tf\n",
    "import collections\n",
    "import string\n",
    "import argparse\n",
    "import time\n",
    "import os\n",
    "from six.moves import cPickle\n",
    "from TextLoader import *\n",
    "from Hangulpy import *\n",
    "print (\"Packages Imported\")"
   ]
  },
  {
   "cell_type": "code",
   "execution_count": 2,
   "metadata": {
    "collapsed": false
   },
   "outputs": [
    {
     "name": "stdout",
     "output_type": "stream",
     "text": [
      "loading preprocessed files\n",
      "type of 'data_loader' is <type 'dict'>, length is 76\n",
      "\n",
      "\n",
      "data_loader.vocab looks like \n",
      "{u'_': 69, u'6': 59, u':': 57, u'\\n': 19, u'4': 67, u'5': 63, u'>': 75, u'!': 52, u' ': 1, u'\"': 28, u'\\u1d25': 0, u\"'\": 49, u')': 46, u'(': 45, u'-': 65, u',': 27, u'.': 24, u'\\u3131': 7, u'0': 73, u'\\u3133': 60, u'\\u3132': 29, u'\\u3135': 50, u'\\u3134': 4, u'\\u3137': 13, u'\\u3136': 44, u'\\u3139': 5, u'\\u3138': 32, u'\\u313b': 55, u'\\u313a': 48, u'\\u313c': 54, u'?': 41, u'3': 66, u'\\u3141': 12, u'\\u3140': 51, u'\\u3143': 47, u'\\u3142': 17, u'\\u3145': 10, u'\\u3144': 43, u'\\u3147': 2, u'\\u3146': 22, u'\\u3149': 40, u'\\u3148': 15, u'\\u314b': 42, u'\\u314a': 23, u'\\u314d': 31, u'\\u314c': 30, u'\\u314f': 3, u'\\u314e': 14, u'\\u3151': 34, u'\\u3150': 21, u'\\u3153': 11, u'\\u3152': 74, u'\\u3155': 18, u'\\u3154': 20, u'\\u3157': 9, u'\\u3156': 39, u'\\u3159': 53, u'\\u3158': 26, u'\\u315b': 38, u'\\u315a': 33, u'\\u315d': 36, u'\\u315c': 16, u'\\u315f': 35, u'\\u315e': 61, u'\\u3161': 8, u'\\u3160': 37, u'\\u3163': 6, u'\\u3162': 25, u'\\x1a': 72, u'9': 64, u'7': 71, u'2': 62, u'1': 58, u'\\u313f': 56, u'\\u313e': 70, u'8': 68} \n",
      "\n",
      "\n",
      "type of 'data_loader.chars' is <type 'tuple'>, length is 76\n",
      "\n",
      "\n",
      "data_loader.chars looks like \n",
      "(u'\\u1d25', u' ', u'\\u3147', u'\\u314f', u'\\u3134', u'\\u3139', u'\\u3163', u'\\u3131', u'\\u3161', u'\\u3157', u'\\u3145', u'\\u3153', u'\\u3141', u'\\u3137', u'\\u314e', u'\\u3148', u'\\u315c', u'\\u3142', u'\\u3155', u'\\n', u'\\u3154', u'\\u3150', u'\\u3146', u'\\u314a', u'.', u'\\u3162', u'\\u3158', u',', u'\"', u'\\u3132', u'\\u314c', u'\\u314d', u'\\u3138', u'\\u315a', u'\\u3151', u'\\u315f', u'\\u315d', u'\\u3160', u'\\u315b', u'\\u3156', u'\\u3149', u'?', u'\\u314b', u'\\u3144', u'\\u3136', u'(', u')', u'\\u3143', u'\\u313a', u\"'\", u'\\u3135', u'\\u3140', u'!', u'\\u3159', u'\\u313c', u'\\u313b', u'\\u313f', u':', u'1', u'6', u'\\u3133', u'\\u315e', u'2', u'5', u'9', u'-', u'3', u'4', u'8', u'_', u'\\u313e', u'7', u'\\x1a', u'0', u'\\u3152', u'>') \n"
     ]
    }
   ],
   "source": [
    "data_dir    = \"data/nine_dreams\"\n",
    "batch_size  = 50\n",
    "seq_length  = 50\n",
    "data_loader = TextLoader(data_dir, batch_size, seq_length)\n",
    "# This makes \"vocab.pkl\" and \"data.npy\" in \"data/nine_dreams\"   \n",
    "#  from \"data/nine_dreams/input.txt\" \n",
    "vocab_size = data_loader.vocab_size\n",
    "vocab = data_loader.vocab\n",
    "chars = data_loader.chars\n",
    "print ( \"type of 'data_loader' is %s, length is %d\" % (type(data_loader.vocab), len(data_loader.vocab)) )\n",
    "print ( \"\\n\" )\n",
    "print (\"data_loader.vocab looks like \\n%s \" % (data_loader.vocab))\n",
    "print ( \"\\n\" )\n",
    "print ( \"type of 'data_loader.chars' is %s, length is %d\" % (type(data_loader.chars), len(data_loader.chars)) )\n",
    "print ( \"\\n\" )\n",
    "print (\"data_loader.chars looks like \\n%s \" % (data_loader.chars,))"
   ]
  },
  {
   "cell_type": "code",
   "execution_count": 3,
   "metadata": {
    "collapsed": false
   },
   "outputs": [
    {
     "name": "stdout",
     "output_type": "stream",
     "text": [
      "Network Ready\n"
     ]
    }
   ],
   "source": [
    "# Define Network \n",
    "rnn_size   = 512\n",
    "num_layers = 3\n",
    "grad_clip  = 5.\n",
    "\n",
    "_batch_size = 1\n",
    "_seq_length = 1\n",
    "\n",
    "vocab_size = data_loader.vocab_size\n",
    "\n",
    "with tf.device(\"/cpu:0\"):\n",
    "    # Select RNN Cell\n",
    "    unitcell = tf.nn.rnn_cell.BasicLSTMCell(rnn_size)\n",
    "    cell = tf.nn.rnn_cell.MultiRNNCell([unitcell] * num_layers)\n",
    "    # Set paths to the graph \n",
    "    input_data = tf.placeholder(tf.int32, [_batch_size, _seq_length])\n",
    "    targets    = tf.placeholder(tf.int32, [_batch_size, _seq_length])\n",
    "    initial_state = cell.zero_state(_batch_size, tf.float32)\n",
    "\n",
    "    # Set Network\n",
    "    with tf.variable_scope('rnnlm'):\n",
    "        softmax_w = tf.get_variable(\"softmax_w\", [rnn_size, vocab_size])\n",
    "        softmax_b = tf.get_variable(\"softmax_b\", [vocab_size])\n",
    "        with tf.device(\"/cpu:0\"):\n",
    "            embedding = tf.get_variable(\"embedding\", [vocab_size, rnn_size])\n",
    "            inputs = tf.split(1, _seq_length, tf.nn.embedding_lookup(embedding, input_data))\n",
    "            inputs = [tf.squeeze(input_, [1]) for input_ in inputs]\n",
    "            \n",
    "    # Loop function for seq2seq\n",
    "    def loop(prev, _):\n",
    "        prev = tf.nn.xw_plus_b(prev, softmax_w, softmax_b)\n",
    "        prev_symbol = tf.stop_gradient(tf.argmax(prev, 1))\n",
    "        return tf.nn.embedding_lookup(embedding, prev_symbol)\n",
    "    # Output of RNN \n",
    "    outputs, last_state = tf.nn.seq2seq.rnn_decoder(inputs, initial_state, cell, loop_function=None, scope='rnnlm')\n",
    "    output = tf.reshape(tf.concat(1, outputs), [-1, rnn_size])\n",
    "    logits = tf.nn.xw_plus_b(output, softmax_w, softmax_b)\n",
    "    # Next word probability \n",
    "    probs = tf.nn.softmax(logits)\n",
    "    # Define LOSS\n",
    "    loss = tf.nn.seq2seq.sequence_loss_by_example([logits], # Input\n",
    "        [tf.reshape(targets, [-1])], # Target\n",
    "        [tf.ones([_batch_size * _seq_length])], # Weight \n",
    "        vocab_size)\n",
    "    # Define Optimizer\n",
    "    cost = tf.reduce_sum(loss) / _batch_size / _seq_length\n",
    "    final_state = last_state\n",
    "    lr = tf.Variable(0.0, trainable=False)\n",
    "    tvars = tf.trainable_variables()\n",
    "    grads, _ = tf.clip_by_global_norm(tf.gradients(cost, tvars), grad_clip)\n",
    "    _optm = tf.train.AdamOptimizer(lr)\n",
    "    optm = _optm.apply_gradients(zip(grads, tvars))\n",
    "\n",
    "print (\"Network Ready\")"
   ]
  },
  {
   "cell_type": "code",
   "execution_count": 4,
   "metadata": {
    "collapsed": false
   },
   "outputs": [],
   "source": [
    "# Sample ! \n",
    "# Sampling function \n",
    "def sample( sess, chars, vocab, __probs, num=200, prime=u'ㅇㅗᴥㄴㅡㄹᴥ '):\n",
    "    # state = cell.zero_state(1, tf.float32).eval()\n",
    "    state = sess.run(cell.zero_state(1, tf.float32))\n",
    "    _probs = __probs\n",
    "    \n",
    "    prime = list(prime)\n",
    "\n",
    "    for char in prime[:-1]:\n",
    "        x = np.zeros((1, 1))\n",
    "        x[0, 0] = vocab[char]\n",
    "        feed = {input_data: x, initial_state:state}\n",
    "        [state] = sess.run([final_state], feed)\n",
    "\n",
    "    def weighted_pick(weights):\n",
    "        weights = weights / np.sum(weights) \n",
    "        \n",
    "        # print (\"weight's shape is %s\" % (weights.shape,))\n",
    "        # print (\"weight's sum is %f\" % (np.sum(weights)))\n",
    "        # weights = np.max(weights, 1e-10)\n",
    "        \n",
    "        weights = weights / np.sum(weights) \n",
    "        t = np.cumsum(weights)\n",
    "        s = np.sum(weights)\n",
    "        return(int(np.searchsorted(t, np.random.rand(1)*s)))\n",
    "\n",
    "    ret = prime\n",
    "    char = prime[-1]\n",
    "    for n in range(num):\n",
    "        x = np.zeros((1, 1))\n",
    "        x[0, 0] = vocab[char]\n",
    "        feed = {input_data: x, initial_state:state}\n",
    "        [_probsval, state] = sess.run([_probs, final_state], feed)\n",
    "        p = _probsval[0]\n",
    "        sample = int(np.random.choice(len(p), p=p))\n",
    "        # sample = weighted_pick(p)\n",
    "        # sample = np.argmax(p)\n",
    "        pred = chars[sample]\n",
    "        ret += pred\n",
    "        char = pred\n",
    "    return ret\n"
   ]
  },
  {
   "cell_type": "code",
   "execution_count": 5,
   "metadata": {
    "collapsed": false
   },
   "outputs": [
    {
     "name": "stdout",
     "output_type": "stream",
     "text": [
      "Prime Text : 오늘은 => ㅇㅗᴥㄴㅡㄹᴥㅇㅡㄴᴥ\n",
      "/tmp/tf_logs/char_rnn_hangul/model.ckpt-0\n",
      "SAMPLED TEXT = [u'\\u3147', u'\\u3157', u'\\u1d25', u'\\u3134', u'\\u3161', u'\\u3139', u'\\u1d25', u'\\u3147', u'\\u3161', u'\\u3134', u'\\u1d25', u')', u'\\u3135', u'\\u3162', u'\\u3135', u'\\u313c', u'\\u3140', u'\\u3135', u',', u')', u'6', u')', u'\\u314a', u'\\u3135', u'3', u'8', u'\\u313c', u'\\u313b', u'\\u3160', u'\\u313f', u')', u'!', u'\"', u'\\u3158', u'\\u3163', u':', u'\\u314d', u'\"', u'\\u314b', u'\\u314b', u'\\u3138', u'\\u3158', u'\\u313b', u':', u'\\u3163', u'6', u'\\u3151', u'1', u'7', u'2', u'\\u314f', u'\\u3145', u'\\u314b', u'\\u314b', u'\\u3144', u'\\x1a', u'\\x1a', u'\\u313b', u'\\u3153', u')', u'\\u314a', u'\\u314a', u'\\u3144', u'\\u3150', u'\\u3153', u'\\u314f', u'\\u3160', u'3', u'\\u3152', u'\\u3144', u'\\u313e', u'7', u'\\u3163', u')', u'\\u313b', u'\\u315c', u'\\u315a', u'4', u'\\u314d', u'\\u3142', u'(', u'\\u3140', u'\\x1a', u'\\u3135', u',', u'\\u3135', u'9', u'\\u3153', u'\\u3135', u'\\u3147', u'\\u3163', u'!', u'\\u3158', u'\\u313c', u'\\u3135', u'6', u':', u'\\u3161', u'\\u314f', u',', u'\\u3138', u'\\u3163', u'!', u'\\u315c', u'\\u314d', u'5', u'\\u3161', u'\\u3150', u'2', u'\\u3131', u' ', u'\\u3137', u'\\u3138', u'\\n', u'\\u314d', u'\\u3135', u'\\u314b', u'\\u3151', u'\\u315c', u'\\u3131', u'4', u'\\u3144', u'\\u3144', u'\\u314b', u'\\u313f', u'5', u'\\u3158', u'\\u315c', u'\\u3161', u'\\u3152', u'\\u3135', u'\\u3145', u',', u'\\u315e', u'\\u3135', u'\\u314f', u'5', u'\\u3139', u'\\u3145', u'\\u3147', u'\\u314f', u'6', u'\\u3158', u'\\u3152', u')', u'\\u314a', u'6', u'\\u3144', u'\\u313f', u')', u'\\u3146', u'\\u314d', u'\\u315a', u'\\u3134', u'\\u3140', u'\\u3152', u'1', u'\\u3138', u'\\u3149', u'\\u313b', u'\\u3152', u'\\u3151', u'3', u'\\u3151', u'3', u'\\u3161', u'\\x1a', u'\\u3150', u'\\u3160', u'\\u3138', u':', u'\\u315e', u'\\u3161', u'\\u3138', u'\\u313a', u'\\u314b', u'9', u'\\n', u'\\u3131', u'\\u3158', u'\\u313b', u'\\u1d25', u'.', u'\\u3160', u'\\u314a', u',', u'1', u',', u'\\u3138', u'\\u3144', u'2', u'7', u'\"', u'1', u'\\n', u'\\u314d', u'\\u3152', u'\\u3135', u'\\u3153', u'\\u3153', u'\\u3163', u'1', u'\\u315b', u'4', u'\\u3150', u'7', u'\\u313b', u'\\u314d', u'\\u3138', u'\\u313a', u'\\u315c', u'6', u'\\u314b', u'6', u'\\u3131', u'\\u3150', u'(', u'7', u'\\u3163', u'7', u'\\u3153', u'\\u3144', u'8', u'\\u3152', u'\\u314a', u'7', u'\\u3161', u'\\u3153', u'\\u3138', u'\\u315c', u'\"', u'\\u1d25', u'\\u3152', u'9', u'\\u3138', u'1', u'\\u3135', u'\\u1d25', u'\\u3150', u'\\u3150', u'\\u3161', u'\\u313f', u' ', u'\\u3150', u'\\u3140', u'\\u315c', u'\\u3138', u'_', u'\\u314d', u'\\u3152', u'\\u3153', u' ', u',', u'\\u3150', u',', u'3', u'\\u3163', u'\\n', u'\\u3161', u'\\u3163', u'\\u314a', u'\\u314b', u'\\u3145', u'3', u'\\u3135', u')', u'\\u315c', u'\\u3135', u'\\u3151', u'\\u3146', u'4', u'\\u3140', u'\\u315c', u'\\u3161', u'\\u3138', u')', u'2', u'\\u3158', u'\\u3161', u'\\u314d', u'\\u3138', u'\\u315c', u'\\u3163', u'\\u3138', u')', u'\\u314b', u'\\u3134', u'\\u3150', u'\\u3153', u'7', u'\\u3150', u'\\u3152', u'\\u3144', u'!', u'\\u1d25', u'\\u315c', u'\\u3147', u'?', u'\\u3163', u'\\u3155', u'\\u3152', u'\\u3134', u'\\u314f', u'\\u3152', u'\\u3144', u'6', u'\\u314a', u'\\u314d', u'\\u313c', u'\\u3135', u'6', u'\\u314d', u',', u'\\u3145', u'\\u3153', u'\\u3159', u'\\u313a', u'\\u314d', u'\\u314b', u'\\u313b', u'\\u3135', u'\\u3156', u'\\n', u'\\u314d', u'\\u315e', u'6', u'\\n', u'\\u3156', u'\\u315c', u'\\u3162', u',', u'3', u'\\u314e', u'\\u3133', u'7', u'\\u3147', u'\\u314f', u'\\u3145', u'7', u'\\u3138', u'\\u3145', u'\\u3134', u'\\u3145', u'\\u3145', u'\\u314d', u'\\u313a', u'\\u3135', u'\\u314f', u'\\u3160', u'\\u3138', u'\\u314f', u'\\u3160', u'\\u3138', u'2', u'\\u313a', u'\\x1a', u'\\u315a', u'\\u3153', u'\\u3138', u'\\u3155', u')', u')', u'\\u314c', u'5', u'\\u315c', u'\\u314b', u'\\u3145', u'1', u'\\u314d', u'3', u'-', u'\\x1a', u'6', u'\\u3133', u'\\u3161', u'\\u313a', u'_', u':', u'3', u'\\u3153', u'\\u3135', u'\\u3153', u'\\u3134', u'\\u314d', u'\\u315c', u',', u'\\u315c', u'\\n', u'\\u314b', u'\\u3135', u'\\u313c', u'\\u3145', u'\\u3150', u'3', u'-', u'\\u3163', u'\\u3142', u'7', u'\\u314f', u'6', u'\\u3140', u'\\u3161', u' ', u'\\u3138', u'7', u'\\u315b', u'\\u3151', u'\\u3138', u'\\u3152', u'\\u3138', u'\\u3133', u'\\u3161', u'\\u314d', u'\\u313f', u'\\u313f', u'\\u3144', u'\\u3135', u'\\u315c', u'\\u3144', u'\\u315c', u'\\u3140', u'\\u314f', u'4', u'\\u3149', u'1', u'\\u3150', u'\\u3151', u',', u'\\u3135', u'7', u'\\u315c', u'3', u'\\u3139', u'\\u3142', u'\\u3153', u'\\u315c', u')', u'3', u'\\u3144', u'2', u'\\u3160', u'\\u314a', u'\\u3141', u'\\u314a', u'\\u3161', u'\\u313b', u')', u'1', u'\\n', u'\\u3157', u'\\u314b', u'\\u3142', u'\\u3161', u'\\u315c', u'\\u3138', u'3', u'\\u313b', u'\\n', u',', u'\\u315c', u'\\u315c', u'\\u3142', u'\\u314f', u'\\u3139', u'\\n', u',', u')', u'\\u3135', u'\\u3150', u'5', u')', u'\\u3153', u',', u'\\n', u'\\u3131', u'\\u3161', u' ', u'\\u3162', u'\\u3144', u'\\u3153', u'7', u'\\u315c', u'\\u3145', u'\\u314b', u':', u'\\u3161', u'\\u313b', u'\\u3163', u'\\u3134', u' ', u'\\u315a', u'\\u3161', u'\\u3163', u'\\u314b', u'\\u3135', u'(', u'\\u314d', u'\\u315c', u'2', u'\\u315c', u'2', u'\\u315c', u'\\u3145', u'\\u3137', u'_', u'\\u313a', u'\\u314b', u'2', u'\\u3144', u')', u'.', u'\\u315d', u'\\u3145', u'\\u3135', u'\\u3152', u'\\u3163', u'\\u3150', u'\\u315a', u'\\u3161', u'\\u3145', u'\\u3135', u'\\u3135', u'\\u314b', u'\\u314f', u'\\x1a', u')', u'6', u'\\u313a', u'\\u314a', u'\\u315a', u'2', u'\"', u'\\u313b', u'\\u3135', u'\\u3153', u'\\u3142', u'\\u314f', u'\\u313c', u'\\u3135', u'\\u313b', u'\\u314b', u'_', u'\\u3140', u',', u'\\u3144', u'\\u3144', u'7', u'\\u313b', u'\\u3163', u'\\u3150', u',', u'\\u314a', u'\\u315c', u'\\u3159', u'\\u315c', u'\\u314b', u'\\u313f', u'\\u3133', u'\\u314f', u'\\u3152', u'\\u3163', u'\\u315e', u'\\n', u'4', u'\\n', u'\\u3135', u'\\u3161', u'\\u314b', u'\\u3138', u'\\u314b', u'\\u3163', u'\\u3138', u' ', u')', u'\\u3137', u'\\u3139', u'\\u3161', u':', u'6', u'\\n', u'\\u3153', u'\\u313a', u'\\u3163', u'\\u3135', u'\\u3144', u'\\u315e', u'\\u314b', u'\\x1a', u'\\u314a', u'\\u314f', u',', u'\\u3152', u'2', u'\\u314a', u'3', u'\\u3145', u'\\u3152', u'0', u'\\u3160', u'(', u'\\u315f', u'(', u'\\u3151', u'\\u3139', u')', u'\\u3135', u'\\u3135', u'\\x1a', u'\\u313b', u'\\u313b', u'\\u3151', u'\\u315c', u')', u',', u'\\u313b', u'\\u3135', u'\\n', u'\\u3152', u')', u'\\u315a', u'\\u314b', u'\\u3137', u'\\n', u' ', u'2', u'\\u3145', u'\\u3157', u'3', u'\\u3153', u'\\u3144', u' ', u'\\u3158', u'4', u'\\u3143', u'\\u315c', u'\\u3150', u'\\u315c', u'\\u3140', u'\\u3150', u'\\u3148', u'\\u315c', u',', u'\\u313f', u'\\u3161', u'\\u314c', u'\\u3135', u'\\u3131', u'6', u'\\u315a', u'\\u314f', u'(', u'\\u3135', u'\"', u'\\x1a', u'\\x1a', u'\\u3139', u'\\u3137', u'!', u'\\u3145', u'\\u3153', u'\\u3140', u'!', u'\\x1a', u'0', u'\\u3153', u' ', u'_', u' ', u'\\u3145', u'!', u'\\u3159', u'\\u3138', u'\\u3163', u'\"', u'\\u3142', u'\\u313a', u'\\u314f', u'\\u315b', u'\\u315c', u'\\u3133', u',', u'\\u3161', u'\\u3150', u'3', u'\\u3140', u'\\u3160', u'\\u3145', u'\\u313c', u'\\u3163', u'_', u'\\u313a', u'\\u314b', u'2', u'\\u3163', u'\\u315a', u'\\u314f', u'\\u3135', u'\\u3138', u'\\u3144', u'9', u'\\u313b', u' ', u'\\u3139', u':', u'\\u3161', u'\\u3149', u'\\u3138', u'\\u3150', u'\\u3150', u'\\n', u'\\u3144', u'\\u3150', u',', u':', u'\\n', u'\\u3144', u'3', u'\\u314a', u'\\u3150', u'7', u'\\u3144', u'\\u3163', u'\\u313b', u'\\u3160', u'\\u314f', u'\\u315b', u'\\u3145', u',', u'\\u3163', u'(', u'\\u313b', u'(', u'6', u'\\u3138', u'\\u3144', u'\\u3146', u'\\u313a', u'\\u3142', u'\\u3161', u'\\u3155', u'\\u314f', u'\\u313a', u'\\u3132', u'\\u313b', u'\\u3163', u'\\u313b', u'\\u3135', u'6', u'5', u'\\u3152', u'\\n', u'\\n', u'\\u314c', u'\\u315a', u'.', u'\\u3150', u'(', u'3', u'\\u3150', u'\\n', u'\\u3141', u'\\u314a', u'\\u3142', u':', u'\\u3161', u',', u')', u'\\u3138', u':', u'\\u1d25', u'\\u3147', u' ', u'\\u314b', u')', u':', u'\\u315e', u'\\u3142', u'\\u3163', u'7', u'\\u3135', u'\\u3138', u'\\u315e', u'!', u'\\u3133', u'\\u313a', u'\\u313a', u'\\u3163', u'\\u3140', u'\\u3152', u'\\u3138', u')', u'?', u'\\u3140', u'\\u3163', u'\\u315c', u'\\u3160', u'\\u313a', u'\\u3151', u'\\u3142', u' ', u'\\u313e', u'6', u'\\u314f', u'\\u3152', u'\\u3135', u')', u'\\u3133', u'\\u3138', u'\\u3138', u',', u'\\u313b', u'\\u3161', u'\\u314a', u'\\u3157', u':', u'\\u313b', u'\\u3139', u'4', u'\\u3161', u'6', u'\\u3151', u'\\u314f', u'\\u314a', u':', u'\\u314c', u'\\u314b', u'\\u314d', u'\\u314f', u'\\u3163', u':', u'\\u314f', u'\\u313a', u'_', u'\\u315c', u'\\u3152', u':', u'\\u3139', u'\\u314f', u'\\u313f', u'\\u3135', u'\\u3161', u'\\u314b', u'\\u1d25', u'\\u3161', u'2', u'\\u315c', u'5', u'\\u313a', u'\\u3153', u'\\u313f', u',', u'\\u3153', u'\\n', u'\\u3145', u'\\u3142', u'\\u3144', u'\\u3139', u'\\u3142', u'1', u'\\u314e', u'\\u3144', u'\\u3140', u':', u'\\u3136', u'\\u3138', u'\"', u'\\u313f', u'\\u315c', u'2', u' ', u'\\u3152', u'\\u314b', u'\\u3152', u'\\u3145', u'\\u3131', u' ', u'\\u315a', u'\\u315c', u' ', u'\\u315a', u'7', u'!', u':', u'5', u'\\u315e', u'\\u3161', u'\\u3138', u'\\u313b', u'\\u3135', u'\\u314a', u'\\u315c', u'\\u3144', u'\\u314f', u'\\n', u'\\u3163', u'!', u',', u'2', u'\\u3142', u'\\u3157', u',', u'\\u315b', u')', u'\\u3153', u'5', u'\\n', u'\\u315c', u'\\u313e', u'\\u314f', u'\\u3145', u'1', u'\\u3139', u'\\u3154', u'\\u314b', u'\\u3144', u'\\u3151', u'\\u314b', u'!', u'\\u3161', u'\\u3138', u'\\u3158', u'\\u313a', u'5', u'\\u313a', u'\\x1a', u'\\u3153', u'\\u3140', u'3', u'\\x1a', u',', u'\\u314b', u'\\u3138', u'\\u3133', u'\\u3140', u'\\u3142', u'\\u3155', u'\\u3137', u'\\x1a', u'\\u314a', u'2', u'\\u3151', u'6', u'\\u313b', u'\\u3157', u'\\u3131', u'\\u3140', u'\\u314b', u'\\u3141', u'\\u313b', u'\\u3138', u'\\u3138', u'\\u3161', u'2', u'\\u3131', u'\\u314f', u'\\u3135', u'\\u3144', u'3', u')', u' ', u'\\n', u',', u'\\u313a', u'\\u314b', u'\\u3141', u'2', u'\\u314b', u'\\u3145', u'5', u'5', u'\\u3135', u'\\u3155', u'3', u',', u'\\u3145', u'\\u3133', u':', u'\\u3161', u':', u'5', u'\\x1a', u'\\u3163', u'6', u'\\u314f', u'\\u3158', u'(', u'\\u314f', u'\\u3158', u'2', u'\\u314f', u'\\u3140', u'7', u'\\u315b', u'\\u3163', u'\\u3138', u'\\u3147', u'3', u'\\u315c', u'\\u3145', u')', u'\\u315c', u'\\u3151', u'\\u3137', u'(', u'\\u3142', u'\\n', u'2', u'6', u'0', u'3', u'\\u313a']\n",
      "\n",
      "-- RESULT --\n",
      "오늘은)ㄵㅢㄵㄼㅀㄵ,)6)ㅊㄵ38ㄼㄻㅠㄿ)!\"ㅘㅣ:ㅍ\"ㅋㅋ똶:ㅣ6ㅑ172ㅏㅅㅋㅋㅄ\u001a\u001aㄻㅓ)ㅊㅊㅄㅐㅓㅏㅠ3ㅒㅄㄾ7ㅣ)ㄻㅜㅚ4ㅍㅂ(ㅀ\u001aㄵ,ㄵ9ㅓㄵ이!ㅘㄼㄵ6:ㅡㅏ,띠!ㅜㅍ5ㅡㅐ2ㄱ ㄷㄸ\n",
      "ㅍㄵ캬ㅜㄱ4ㅄㅄㅋㄿ5ㅘㅜㅡㅒㄵㅅ,ㅞㄵㅏ5ㄹㅅ아6ㅘㅒ)ㅊ6ㅄㄿ)ㅆ푄ㅀㅒ1ㄸㅉㄻㅒㅑ3ㅑ3ㅡ\u001aㅐㅠㄸ:ㅞㅡㄸㄺㅋ9\n",
      "괆.ㅠㅊ,1,ㄸㅄ27\"1\n",
      "퍥ㅓㅓㅣ1ㅛ4ㅐ7ㄻㅍㄸㄺㅜ6ㅋ6개(7ㅣ7ㅓㅄ8ㅒㅊ7ㅡㅓ뚜\"ㅒ9ㄸ1ㄵㅐㅐㅡㄿ ㅐㅀㅜㄸ_퍠ㅓ ,ㅐ,3ㅣ\n",
      "ㅡㅣㅊㅋㅅ3ㄵ)ㅜㄵㅑㅆ4ㅀㅜㅡㄸ)2ㅘㅡㅍ뚜ㅣㄸ)ㅋ내ㅓ7ㅐㅒㅄ!ㅜㅇ?ㅣㅕㅒ나ㅒㅄ6ㅊㅍㄼㄵ6ㅍ,서ㅙㄺㅍㅋㄻㄵㅖ\n",
      "풰6\n",
      "ㅖㅜㅢ,3ㅎㄳ7앗7ㄸㅅㄴㅅㅅㅍㄺㄵㅏㅠ따ㅠㄸ2ㄺ\u001aㅚㅓ뗘))ㅌ5ㅜㅋㅅ1ㅍ3-\u001a6ㄳㅡㄺ_:3ㅓㄵㅓㄴ푸,ㅜ\n",
      "ㅋㄵㄼ새3-ㅣㅂ7ㅏ6ㅀㅡ ㄸ7ㅛㅑ떄ㄸㄳㅡㅍㄿㄿㅄㄵㅜㅄㅜㅀㅏ4ㅉ1ㅐㅑ,ㄵ7ㅜ3ㄹ버ㅜ)3ㅄ2ㅠㅊㅁ츪)1\n",
      "ㅗㅋ브ㅜㄸ3ㄻ\n",
      ",ㅜㅜ발\n",
      ",)ㄵㅐ5)ㅓ,\n",
      "그 ㅢㅄㅓ7ㅜㅅㅋ:ㅡㄻㅣㄴ ㅚㅡㅣㅋㄵ(푸2ㅜ2ㅜㅅㄷ_ㄺㅋ2ㅄ).ㅝㅅㄵㅒㅣㅐㅚㅡㅅㄵㄵ카\u001a)6ㄺ최2\"ㄻㄵㅓ밟ㄵㄻㅋ_ㅀ,ㅄㅄ7ㄻㅣㅐ,추ㅙㅜㅋㄿㄳㅏㅒㅣㅞ\n",
      "4\n",
      "ㄵㅡㅋㄸ키ㄸ )ㄷ르:6\n",
      "ㅓㄺㅣㄵㅄㅞㅋ\u001a차,ㅒ2ㅊ3섀0ㅠ(ㅟ(ㅑㄹ)ㄵㄵ\u001aㄻㄻㅑㅜ),ㄻㄵ\n",
      "ㅒ)ㅚㅋㄷ\n",
      " 2소3ㅓㅄ ㅘ4뿌ㅐㅜㅀㅐ주,ㄿㅡㅌㄵㄱ6ㅚㅏ(ㄵ\"\u001a\u001aㄹㄷ!섫!\u001a0ㅓ _ ㅅ!ㅙ띠\"ㅂㄺㅏㅛㅜㄳ,ㅡㅐ3ㅀㅠㅅㄼㅣ_ㄺㅋ2ㅣㅚㅏㄵㄸㅄ9ㄻ ㄹ:ㅡㅉ때ㅐ\n",
      "ㅄㅐ,:\n",
      "ㅄ3채7ㅄㅣㄻㅠㅏㅛㅅ,ㅣ(ㄻ(6ㄸㅄㅆㄺ브ㅕㅏㄺㄲㄻㅣㄻㄵ65ㅒ\n",
      "\n",
      "퇴.ㅐ(3ㅐ\n",
      "ㅁㅊㅂ:ㅡ,)ㄸ:ㅇ ㅋ):ㅞ비7ㄵ뛔!ㄳㄺㄺㅣㅀㅒㄸ)?ㅀㅣㅜㅠㄺㅑㅂ ㄾ6ㅏㅒㄵ)ㄳㄸㄸ,ㄻㅡ초:ㄻㄹ4ㅡ6ㅑㅏㅊ:ㅌㅋ파ㅣ:ㅏㄺ_ㅜㅒ:랊ㄵㅡㅋㅡ2ㅜ5ㄺㅓㄿ,ㅓ\n",
      "ㅅㅂㅄㄹㅂ1ㅎㅄㅀ:ㄶㄸ\"ㄿㅜ2 ㅒ컛ㄱ ㅚㅜ ㅚ7!:5ㅞㅡㄸㄻㄵ춦ㅏ\n",
      "ㅣ!,2보,ㅛ)ㅓ5\n",
      "ㅜㄾㅏㅅ1렠ㅄㅑㅋ!ㅡ똵5ㄺ\u001aㅓㅀ3\u001a,ㅋㄸㄳㅀ볃\u001aㅊ2ㅑ6ㄻㅗㄱㅀㅋㅁㄻㄸ뜨2갅ㅄ3) \n",
      ",ㄺㅋㅁ2ㅋㅅ55ㄵㅕ3,ㅅㄳ:ㅡ:5\u001aㅣ6ㅏㅘ(ㅏㅘ2ㅏㅀ7ㅛㅣㄸㅇ3ㅜㅅ)ㅜㅑㄷ(ㅂ\n",
      "2603ㄺ\n"
     ]
    }
   ],
   "source": [
    "save_dir = '/tmp/tf_logs/char_rnn_hangul'\n",
    "prime = decompose_text(u\"오늘은\")\n",
    "\n",
    "print (\"Prime Text : %s => %s\" % (automata(prime), \"\".join(prime)))\n",
    "n = 1000\n",
    "\"\"\"\n",
    "with open(os.path.join(save_dir, 'config.pkl'), 'rb') as f:\n",
    "    saved_args = cPickle.load(f)\n",
    "with open(os.path.join(save_dir, 'chars_vocab.pkl'), 'rb') as f:\n",
    "    chars, vocab = cPickle.load(f)\n",
    "\"\"\"\n",
    "    \n",
    "sess = tf.Session()\n",
    "sess.run(tf.initialize_all_variables())\n",
    "\n",
    "saver = tf.train.Saver(tf.all_variables())\n",
    "ckpt = tf.train.get_checkpoint_state(save_dir)\n",
    "\n",
    "print (ckpt.model_checkpoint_path)\n",
    "#print chars\n",
    "#print vocab\n",
    "\n",
    "\n",
    "if ckpt and ckpt.model_checkpoint_path:\n",
    "    saver.restore(sess, ckpt.model_checkpoint_path)\n",
    "    sampled_text = sample(sess, chars, vocab, probs, n, prime)\n",
    "    #print (\"\")\n",
    "    print (u\"SAMPLED TEXT = %s\" % sampled_text)\n",
    "\n",
    "    print (\"\")\n",
    "    print (\"-- RESULT --\")\n",
    "    print (automata(\"\".join(sampled_text)))"
   ]
  },
  {
   "cell_type": "code",
   "execution_count": null,
   "metadata": {
    "collapsed": false
   },
   "outputs": [],
   "source": []
  }
 ],
 "metadata": {
  "kernelspec": {
   "display_name": "Python 2",
   "language": "python",
   "name": "python2"
  },
  "language_info": {
   "codemirror_mode": {
    "name": "ipython",
    "version": 2
   },
   "file_extension": ".py",
   "mimetype": "text/x-python",
   "name": "python",
   "nbconvert_exporter": "python",
   "pygments_lexer": "ipython2",
   "version": "2.7.11"
  }
 },
 "nbformat": 4,
 "nbformat_minor": 0
}
