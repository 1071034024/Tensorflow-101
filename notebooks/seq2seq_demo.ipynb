{
 "cells": [
  {
   "cell_type": "code",
   "execution_count": 13,
   "metadata": {
    "collapsed": false
   },
   "outputs": [],
   "source": [
    "import numpy as np\n",
    "import tensorflow as tf\n",
    "from tensorflow.models.rnn import rnn_cell, seq2seq\n"
   ]
  },
  {
   "cell_type": "code",
   "execution_count": 14,
   "metadata": {
    "collapsed": false
   },
   "outputs": [
    {
     "name": "stderr",
     "output_type": "stream",
     "text": [
      "Exception AssertionError: AssertionError() in <bound method InteractiveSession.__del__ of <tensorflow.python.client.session.InteractiveSession object at 0x7fb10e3bb450>> ignored\n"
     ]
    }
   ],
   "source": [
    "sess = tf.InteractiveSession()\n",
    "\n",
    "seq_length    = 5\n",
    "batch_size    = 64\n",
    "vocab_size    = 7\n",
    "embedding_dim = 50\n",
    "memory_dim    = 100\n"
   ]
  },
  {
   "cell_type": "code",
   "execution_count": 15,
   "metadata": {
    "collapsed": true
   },
   "outputs": [],
   "source": [
    "\n",
    "enc_inp = [tf.placeholder(tf.int32, shape=(None,),\n",
    "                          name=\"inp%i\" % t)\n",
    "           for t in range(seq_length)]\n",
    "\n",
    "labels = [tf.placeholder(tf.int32, shape=(None,),\n",
    "                        name=\"labels%i\" % t)\n",
    "          for t in range(seq_length)]\n",
    "\n",
    "weights = [tf.ones_like(labels_t, dtype=tf.float32)\n",
    "           for labels_t in labels]\n",
    "\n",
    "# Decoder input: prepend some \"GO\" token and drop the final\n",
    "# token of the encoder input\n",
    "dec_inp = ([tf.zeros_like(enc_inp[0], dtype=np.int32, name=\"GO\")]\n",
    "           + enc_inp[:-1])\n",
    "\n",
    "# Initial memory value for recurrence.\n",
    "prev_mem = tf.zeros((batch_size, memory_dim))"
   ]
  },
  {
   "cell_type": "code",
   "execution_count": 17,
   "metadata": {
    "collapsed": false
   },
   "outputs": [
    {
     "ename": "TypeError",
     "evalue": "embedding_rnn_seq2seq() takes at least 6 arguments (5 given)",
     "output_type": "error",
     "traceback": [
      "\u001b[1;31m---------------------------------------------------------------------------\u001b[0m",
      "\u001b[1;31mTypeError\u001b[0m                                 Traceback (most recent call last)",
      "\u001b[1;32m<ipython-input-17-aaa8fb251fcc>\u001b[0m in \u001b[0;36m<module>\u001b[1;34m()\u001b[0m\n\u001b[0;32m      2\u001b[0m \u001b[1;33m\u001b[0m\u001b[0m\n\u001b[0;32m      3\u001b[0m dec_outputs, dec_memory = seq2seq.embedding_rnn_seq2seq(\n\u001b[1;32m----> 4\u001b[1;33m     enc_inp, dec_inp, cell, vocab_size, vocab_size)\n\u001b[0m",
      "\u001b[1;31mTypeError\u001b[0m: embedding_rnn_seq2seq() takes at least 6 arguments (5 given)"
     ]
    }
   ],
   "source": [
    "cell = rnn_cell.GRUCell(memory_dim)\n",
    "dec_outputs, dec_memory = seq2seq.embedding_rnn_seq2seq(\n",
    "    enc_inp, dec_inp, cell, vocab_size, vocab_size)"
   ]
  },
  {
   "cell_type": "code",
   "execution_count": null,
   "metadata": {
    "collapsed": false
   },
   "outputs": [],
   "source": []
  },
  {
   "cell_type": "code",
   "execution_count": null,
   "metadata": {
    "collapsed": true
   },
   "outputs": [],
   "source": []
  }
 ],
 "metadata": {
  "kernelspec": {
   "display_name": "Python 2",
   "language": "python",
   "name": "python2"
  },
  "language_info": {
   "codemirror_mode": {
    "name": "ipython",
    "version": 2
   },
   "file_extension": ".py",
   "mimetype": "text/x-python",
   "name": "python",
   "nbconvert_exporter": "python",
   "pygments_lexer": "ipython2",
   "version": "2.7.6"
  }
 },
 "nbformat": 4,
 "nbformat_minor": 0
}
