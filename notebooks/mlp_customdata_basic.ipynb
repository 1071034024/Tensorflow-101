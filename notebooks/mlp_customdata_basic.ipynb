{
 "cells": [
  {
   "cell_type": "code",
   "execution_count": 1,
   "metadata": {
    "collapsed": true
   },
   "outputs": [],
   "source": [
    "\"\"\"\n",
    " Simple Multi-Layer Pecptron with Custom Data\n",
    " @Sungjoon Choi (sungjoon.choi@cpslab.snu.ac.kr)\n",
    "\"\"\"\n",
    "import os\n",
    "import numpy as np\n",
    "import tensorflow as tf\n",
    "import matplotlib.pyplot as plt\n",
    "%matplotlib inline  "
   ]
  },
  {
   "cell_type": "code",
   "execution_count": 2,
   "metadata": {
    "collapsed": false
   },
   "outputs": [
    {
     "name": "stdout",
     "output_type": "stream",
     "text": [
      "69 train images loaded\n",
      "18 test images loaded\n",
      "900 dimensional input\n",
      "2 classes\n"
     ]
    }
   ],
   "source": [
    "# Load them!\n",
    "cwd = os.getcwd()\n",
    "loadpath = cwd + \"/data/trainingset.npz\"\n",
    "l = np.load(loadpath)\n",
    "\n",
    "# See what's in here\n",
    "l.files\n",
    "\n",
    "# Parse data\n",
    "trainimg = l['trainimg']\n",
    "trainlabel = l['trainlabel']\n",
    "testimg = l['testimg']\n",
    "testlabel = l['testlabel']\n",
    "ntrain = trainimg.shape[0]\n",
    "nclass = trainlabel.shape[1]\n",
    "dim    = trainimg.shape[1]\n",
    "ntest  = testimg.shape[0]\n",
    "\n",
    "print (\"%d train images loaded\" % (ntrain))\n",
    "print (\"%d test images loaded\" % (ntest))\n",
    "print (\"%d dimensional input\" % (dim))\n",
    "print (\"%d classes\" % (nclass))"
   ]
  },
  {
   "cell_type": "code",
   "execution_count": 3,
   "metadata": {
    "collapsed": false
   },
   "outputs": [
    {
     "name": "stdout",
     "output_type": "stream",
     "text": [
      "Network Ready to Go!\n"
     ]
    }
   ],
   "source": [
    "# Parameters\n",
    "learning_rate   = 0.001\n",
    "training_epochs = 100\n",
    "batch_size      = ntrain\n",
    "display_step    = nclass\n",
    "\n",
    "# Network Parameters\n",
    "n_hidden_1 = 256 # 1st layer num features\n",
    "n_hidden_2 = 128 # 2nd layer num features\n",
    "n_input    = dim # data input (img shape: 28*28)\n",
    "n_classes  = nclass # total classes (0-9 digits)\n",
    "\n",
    "# tf Graph input\n",
    "x = tf.placeholder(\"float\", [None, n_input])\n",
    "y = tf.placeholder(\"float\", [None, n_classes])\n",
    "\n",
    "# Create model\n",
    "def multilayer_perceptron(_X, _weights, _biases):\n",
    "    layer_1 = tf.nn.sigmoid(tf.add(tf.matmul(_X, _weights['h1']), _biases['b1'])) \n",
    "    layer_2 = tf.nn.sigmoid(tf.add(tf.matmul(layer_1, _weights['h2']), _biases['b2']))\n",
    "    return (tf.sigmoid(tf.matmul(layer_2, _weights['out']) + _biases['out']))\n",
    "    # return (tf.sigmoid(tf.matmul(layer_2, _weights['out']) + _biases['out']))\n",
    "    \n",
    "# Store layers weight & bias\n",
    "stddev = 0.1 # <== This greatly affects accuracy!! \n",
    "weights = {\n",
    "    'h1': tf.Variable(tf.random_normal([n_input, n_hidden_1], stddev=stddev)),\n",
    "    'h2': tf.Variable(tf.random_normal([n_hidden_1, n_hidden_2], stddev=stddev)),\n",
    "    'out': tf.Variable(tf.random_normal([n_hidden_2, n_classes], stddev=stddev))\n",
    "}\n",
    "biases = {\n",
    "    'b1': tf.Variable(tf.random_normal([n_hidden_1])),\n",
    "    'b2': tf.Variable(tf.random_normal([n_hidden_2])),\n",
    "    'out': tf.Variable(tf.random_normal([n_classes]))\n",
    "}\n",
    "print (\"Network Ready to Go!\")"
   ]
  },
  {
   "cell_type": "code",
   "execution_count": 4,
   "metadata": {
    "collapsed": true
   },
   "outputs": [],
   "source": [
    "# Construct model\n",
    "pred = multilayer_perceptron(x, weights, biases)\n",
    "\n",
    "# Define loss and optimizer\n",
    "cost = tf.reduce_mean(tf.nn.softmax_cross_entropy_with_logits(pred, y)) # Softmax loss\n",
    "optm = tf.train.AdamOptimizer(learning_rate=learning_rate).minimize(cost) # Adam Optimizer\n",
    "corr = tf.equal(tf.argmax(pred, 1), tf.argmax(y, 1))    \n",
    "accr = tf.reduce_mean(tf.cast(corr, \"float\"))\n",
    "\n",
    "# Initializing the variables\n",
    "init = tf.initialize_all_variables()"
   ]
  },
  {
   "cell_type": "code",
   "execution_count": 5,
   "metadata": {
    "collapsed": false,
    "scrolled": true
   },
   "outputs": [
    {
     "name": "stdout",
     "output_type": "stream",
     "text": [
      "Epoch: 000/100 cost: 0.699896038\n",
      "Training accuracy: 0.464\n",
      "Epoch: 002/100 cost: 0.689470649\n",
      "Training accuracy: 0.551\n",
      "Epoch: 004/100 cost: 0.681474209\n",
      "Training accuracy: 0.565\n",
      "Epoch: 006/100 cost: 0.686457396\n",
      "Training accuracy: 0.464\n",
      "Epoch: 008/100 cost: 0.672411621\n",
      "Training accuracy: 0.725\n",
      "Epoch: 010/100 cost: 0.683960438\n",
      "Training accuracy: 0.507\n",
      "Epoch: 012/100 cost: 0.668209076\n",
      "Training accuracy: 0.623\n",
      "Epoch: 014/100 cost: 0.646869183\n",
      "Training accuracy: 0.638\n",
      "Epoch: 016/100 cost: 0.652468562\n",
      "Training accuracy: 0.681\n",
      "Epoch: 018/100 cost: 0.658711195\n",
      "Training accuracy: 0.710\n",
      "Epoch: 020/100 cost: 0.647504389\n",
      "Training accuracy: 0.623\n",
      "Epoch: 022/100 cost: 0.616698384\n",
      "Training accuracy: 0.783\n",
      "Epoch: 024/100 cost: 0.635503173\n",
      "Training accuracy: 0.768\n",
      "Epoch: 026/100 cost: 0.621062279\n",
      "Training accuracy: 0.652\n",
      "Epoch: 028/100 cost: 0.595718801\n",
      "Training accuracy: 0.812\n",
      "Epoch: 030/100 cost: 0.620238185\n",
      "Training accuracy: 0.710\n",
      "Epoch: 032/100 cost: 0.561077714\n",
      "Training accuracy: 0.841\n",
      "Epoch: 034/100 cost: 0.611644864\n",
      "Training accuracy: 0.696\n",
      "Epoch: 036/100 cost: 0.588022828\n",
      "Training accuracy: 0.754\n",
      "Epoch: 038/100 cost: 0.592636704\n",
      "Training accuracy: 0.783\n",
      "Epoch: 040/100 cost: 0.583840489\n",
      "Training accuracy: 0.797\n",
      "Epoch: 042/100 cost: 0.574917436\n",
      "Training accuracy: 0.783\n",
      "Epoch: 044/100 cost: 0.558481216\n",
      "Training accuracy: 0.797\n",
      "Epoch: 046/100 cost: 0.563241065\n",
      "Training accuracy: 0.754\n",
      "Epoch: 048/100 cost: 0.576346815\n",
      "Training accuracy: 0.739\n",
      "Epoch: 050/100 cost: 0.554930866\n",
      "Training accuracy: 0.710\n",
      "Epoch: 052/100 cost: 0.552974403\n",
      "Training accuracy: 0.797\n",
      "Epoch: 054/100 cost: 0.504612565\n",
      "Training accuracy: 0.899\n",
      "Epoch: 056/100 cost: 0.512061715\n",
      "Training accuracy: 0.884\n",
      "Epoch: 058/100 cost: 0.507074118\n",
      "Training accuracy: 0.870\n",
      "Epoch: 060/100 cost: 0.484269679\n",
      "Training accuracy: 0.913\n",
      "Epoch: 062/100 cost: 0.509691119\n",
      "Training accuracy: 0.899\n",
      "Epoch: 064/100 cost: 0.449061930\n",
      "Training accuracy: 0.928\n",
      "Epoch: 066/100 cost: 0.482412994\n",
      "Training accuracy: 0.928\n",
      "Epoch: 068/100 cost: 0.459846765\n",
      "Training accuracy: 0.986\n",
      "Epoch: 070/100 cost: 0.490996778\n",
      "Training accuracy: 0.942\n",
      "Epoch: 072/100 cost: 0.482977659\n",
      "Training accuracy: 0.913\n",
      "Epoch: 074/100 cost: 0.435161650\n",
      "Training accuracy: 0.957\n",
      "Epoch: 076/100 cost: 0.426242411\n",
      "Training accuracy: 0.942\n",
      "Epoch: 078/100 cost: 0.440837383\n",
      "Training accuracy: 0.942\n",
      "Epoch: 080/100 cost: 0.419744790\n",
      "Training accuracy: 0.957\n",
      "Epoch: 082/100 cost: 0.391887933\n",
      "Training accuracy: 1.000\n",
      "Epoch: 084/100 cost: 0.394616008\n",
      "Training accuracy: 1.000\n",
      "Epoch: 086/100 cost: 0.387836933\n",
      "Training accuracy: 0.986\n",
      "Epoch: 088/100 cost: 0.433516860\n",
      "Training accuracy: 0.884\n",
      "Epoch: 090/100 cost: 0.388486624\n",
      "Training accuracy: 0.986\n",
      "Epoch: 092/100 cost: 0.394950092\n",
      "Training accuracy: 0.986\n",
      "Epoch: 094/100 cost: 0.370714962\n",
      "Training accuracy: 1.000\n",
      "Epoch: 096/100 cost: 0.381722510\n",
      "Training accuracy: 0.971\n",
      "Epoch: 098/100 cost: 0.386587530\n",
      "Training accuracy: 0.986\n",
      "Optimization Finished!\n"
     ]
    }
   ],
   "source": [
    "# Launch the graph\n",
    "sess = tf.Session()\n",
    "sess.run(init)\n",
    "\n",
    "# Training cycle\n",
    "for epoch in range(training_epochs):\n",
    "    avg_cost = 0.\n",
    "    total_batch = int(ntrain/batch_size)\n",
    "    # Loop over all batches\n",
    "    for i in range(total_batch):\n",
    "        randidx = np.random.randint(ntrain, size=batch_size)\n",
    "        batch_xs = trainimg[randidx, :]\n",
    "        batch_ys = trainlabel[randidx, :]   \n",
    "        # Fit training using batch data\n",
    "        sess.run(optm, feed_dict={x: batch_xs, y: batch_ys})\n",
    "        # Compute average loss\n",
    "        avg_cost += sess.run(cost, feed_dict={x: batch_xs, y: batch_ys})/total_batch\n",
    "    # Display logs per epoch step\n",
    "    if epoch % display_step == 0:\n",
    "        print (\"Epoch: %03d/%03d cost: %.9f\" % (epoch, training_epochs, avg_cost))\n",
    "        train_acc = sess.run(accr, feed_dict={x: batch_xs, y: batch_ys})\n",
    "        print (\"Training accuracy: %.3f\" % (train_acc))\n",
    "\n",
    "print (\"Optimization Finished!\")\n"
   ]
  },
  {
   "cell_type": "code",
   "execution_count": 7,
   "metadata": {
    "collapsed": false,
    "scrolled": false
   },
   "outputs": [
    {
     "name": "stdout",
     "output_type": "stream",
     "text": [
      "Test accuracy: 0.833\n"
     ]
    }
   ],
   "source": [
    "test_acc = sess.run(accr, \n",
    "                    feed_dict={x: testimg, y: testlabel})\n",
    "print (\"Test accuracy: %.3f\" % (test_acc))"
   ]
  }
 ],
 "metadata": {
  "kernelspec": {
   "display_name": "Python 2",
   "language": "python",
   "name": "python2"
  },
  "language_info": {
   "codemirror_mode": {
    "name": "ipython",
    "version": 2
   },
   "file_extension": ".py",
   "mimetype": "text/x-python",
   "name": "python",
   "nbconvert_exporter": "python",
   "pygments_lexer": "ipython2",
   "version": "2.7.6"
  }
 },
 "nbformat": 4,
 "nbformat_minor": 0
}
