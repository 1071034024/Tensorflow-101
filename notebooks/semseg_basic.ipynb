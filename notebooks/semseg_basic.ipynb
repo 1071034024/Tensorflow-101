{
 "cells": [
  {
   "cell_type": "markdown",
   "metadata": {},
   "source": [
    "# Basic semantic segmentation using average unpooling"
   ]
  },
  {
   "cell_type": "code",
   "execution_count": 1,
   "metadata": {
    "collapsed": false
   },
   "outputs": [
    {
     "name": "stdout",
     "output_type": "stream",
     "text": [
      "Packs loaded.\n"
     ]
    }
   ],
   "source": [
    "from PIL import Image\n",
    "import cPickle as pkl\n",
    "import time\n",
    "import numpy as np\n",
    "import matplotlib.pyplot as plt\n",
    "from tensorflow.python.training import moving_averages\n",
    "import tensorflow as tf\n",
    "import glob\n",
    "import os\n",
    "%matplotlib inline  \n",
    "print (\"Packs loaded.\")"
   ]
  },
  {
   "cell_type": "markdown",
   "metadata": {},
   "source": [
    "# Load dataset for semantic segmentation"
   ]
  },
  {
   "cell_type": "code",
   "execution_count": 2,
   "metadata": {
    "collapsed": false
   },
   "outputs": [
    {
     "name": "stdout",
     "output_type": "stream",
     "text": [
      "367 train images\n",
      "367 train annotations\n",
      "233 test images\n",
      "233 test annotations\n"
     ]
    }
   ],
   "source": [
    "# Location of the files\n",
    "camvidpath = 'data/seg/SegNet-Tutorial-master/CamVid/'\n",
    "# Training data\n",
    "path1 = os.getcwd() + '/' + camvidpath + 'train/'\n",
    "path2 = os.getcwd() + '/' + camvidpath + 'trainannot/'\n",
    "trainimglist = glob.glob(path1 + '/*.png')\n",
    "trainannotlist = glob.glob(path2 + '/*.png')\n",
    "print (\"%d train images\" % (len(trainimglist)))\n",
    "print (\"%d train annotations\" % (len(trainannotlist)))\n",
    "\n",
    "# Test data\n",
    "path1 = os.getcwd() + '/' + camvidpath + 'test/'\n",
    "path2 = os.getcwd() + '/' + camvidpath + 'testannot/'\n",
    "testimglist = glob.glob(path1 + '/*.png')\n",
    "testannotlist = glob.glob(path2 + '/*.png')\n",
    "print (\"%d test images\" % (len(testimglist)))\n",
    "print (\"%d test annotations\" % (len(testannotlist)))"
   ]
  },
  {
   "cell_type": "markdown",
   "metadata": {},
   "source": [
    "# Get train / test images"
   ]
  },
  {
   "cell_type": "code",
   "execution_count": 3,
   "metadata": {
    "collapsed": false
   },
   "outputs": [
    {
     "name": "stdout",
     "output_type": "stream",
     "text": [
      "Train data process done.\n",
      "Test data process done.\n"
     ]
    }
   ],
   "source": [
    "height = 128\n",
    "width = 128\n",
    "nrclass = 22\n",
    "trainData = None\n",
    "trainLabel = None\n",
    "trainLabelOneHot = None\n",
    "trainlen = len(trainimglist)\n",
    "testData = None\n",
    "testLabel = None\n",
    "testLabelOneHot = None\n",
    "testlen = len(testimglist)\n",
    "def DenseToOneHot(labels_dense, num_classes):\n",
    "    # Convert class labels from scalars to one-hot vectors. \n",
    "    num_labels = labels_dense.shape[0]\n",
    "    index_offset = np.arange(num_labels) * num_classes\n",
    "    labels_one_hot = np.zeros((num_labels, num_classes))\n",
    "    labels_one_hot.flat[index_offset + labels_dense.ravel()] = 1\n",
    "    return labels_one_hot\n",
    "\"\"\" Train data process \"\"\" \n",
    "for (f1, f2, i) in zip(trainimglist, trainannotlist, range(trainlen)):\n",
    "    # print (\"[%02d/%02d]f1: %sf2: %s\" % (i, trainlen, f1, f2))\n",
    "    # Train image\n",
    "    img1 = Image.open(f1)\n",
    "    img1 = img1.resize((height, width))\n",
    "    rgb  = np.array(img1).reshape(1, height, width, 3)\n",
    "    # Train label\n",
    "    img2 = Image.open(f2)\n",
    "    img2 = img2.resize((height, width), Image.NEAREST)\n",
    "    label = np.array(img2).reshape(1, height, width, 1)\n",
    "    # Stack images and labels\n",
    "    if i == 0: \n",
    "        trainData = rgb\n",
    "        trainLabel = label\n",
    "    else:\n",
    "        trainData = np.concatenate((trainData, rgb), axis=0)\n",
    "        trainLabel = np.concatenate((trainLabel, label), axis=0)\n",
    "ntrain = len(trainData)\n",
    "# Onehot-coded label\n",
    "trainLabelOneHot = np.zeros((trainLabel.shape[0], trainLabel.shape[1], trainLabel.shape[2], nrclass))\n",
    "for row in range(height):\n",
    "    for col in range(width):\n",
    "        single = trainLabel[:, row, col, 0]\n",
    "        oneHot = DenseToOneHot(single, nrclass) # (367,) => (367, 22)\n",
    "        trainLabelOneHot[:, row, col, :] = oneHot\n",
    "print (\"Train data process done.\")        \n",
    "\"\"\" Test data process \"\"\" \n",
    "for (f1, f2, i) in zip(testimglist, testannotlist, range(testlen)):\n",
    "    # print (\"[%02d/%02d]f1: %sf2: %s\" % (i, testlen, f1, f2))\n",
    "    # Train image\n",
    "    img1 = Image.open(f1)\n",
    "    img1 = img1.resize((height, width))\n",
    "    rgb  = np.array(img1).reshape(1, height, width, 3)\n",
    "    # Train label\n",
    "    img2 = Image.open(f2)\n",
    "    img2 = img2.resize((height, width), Image.NEAREST)\n",
    "    label = np.array(img2).reshape(1, height, width, 1)\n",
    "    # Stack images and labels\n",
    "    if i == 0: \n",
    "        testData = rgb\n",
    "        testLabel = label\n",
    "    else:\n",
    "        testData = np.concatenate((testData, rgb), axis=0)\n",
    "        testLabel = np.concatenate((testLabel, label), axis=0)\n",
    "# Onehot-coded label\n",
    "testLabelOneHot = np.zeros((testLabel.shape[0], testLabel.shape[1], testLabel.shape[2], nrclass))\n",
    "for row in range(height):\n",
    "    for col in range(width):\n",
    "        single = testLabel[:, row, col, 0]\n",
    "        oneHot = DenseToOneHot(single, nrclass) # (367,) => (367, 22)\n",
    "        testLabelOneHot[:, row, col, :] = oneHot\n",
    "print (\"Test data process done.\")"
   ]
  },
  {
   "cell_type": "code",
   "execution_count": 4,
   "metadata": {
    "collapsed": false
   },
   "outputs": [
    {
     "name": "stdout",
     "output_type": "stream",
     "text": [
      "Shape of 'trainData' is (367, 128, 128, 3)\n",
      "Shape of 'trainLabel' is (367, 128, 128, 1)\n",
      "Shape of 'trainLabelOneHot' is (367, 128, 128, 22)\n",
      "Shape of 'testData' is (233, 128, 128, 3)\n",
      "Shape of 'testLabel' is (233, 128, 128, 1)\n",
      "Shape of 'testLabelOneHot' is (233, 128, 128, 22)\n"
     ]
    }
   ],
   "source": [
    "print (\"Shape of 'trainData' is %s\" % (trainData.shape,))\n",
    "print (\"Shape of 'trainLabel' is %s\" % (trainLabel.shape,))\n",
    "print (\"Shape of 'trainLabelOneHot' is %s\" % (trainLabelOneHot.shape,))\n",
    "print (\"Shape of 'testData' is %s\" % (testData.shape,))\n",
    "print (\"Shape of 'testLabel' is %s\" % (testLabel.shape,))\n",
    "print (\"Shape of 'testLabelOneHot' is %s\" % (testLabelOneHot.shape,))"
   ]
  },
  {
   "cell_type": "markdown",
   "metadata": {},
   "source": [
    "# Define networks"
   ]
  },
  {
   "cell_type": "code",
   "execution_count": 5,
   "metadata": {
    "collapsed": false
   },
   "outputs": [],
   "source": [
    "# Define functions\n",
    "x = tf.placeholder(tf.float32, [None, height, width, 3])\n",
    "y = tf.placeholder(tf.float32, [None, height, width, nrclass])\n",
    "keepprob = tf.placeholder(tf.float32)\n",
    "# Kernels\n",
    "ksize = 7\n",
    "fsize = 64\n",
    "initstdev = 0.1\n",
    "initfun = tf.random_normal_initializer(mean=0.0, stddev=initstdev)\n",
    "# initfun = None\n",
    "weights = {\n",
    "    'ce1': tf.get_variable(\"ce1\", shape = [ksize, ksize, 3, fsize], initializer = initfun) ,\n",
    "    'ce2': tf.get_variable(\"ce2\", shape = [ksize, ksize, fsize, fsize], initializer = initfun) ,\n",
    "    'ce3': tf.get_variable(\"ce3\", shape = [ksize, ksize, fsize, fsize], initializer = initfun),\n",
    "    'ce4': tf.get_variable(\"ce4\", shape = [ksize, ksize, fsize, fsize], initializer = initfun),\n",
    "    'cd4': tf.get_variable(\"cd4\", shape = [ksize, ksize, fsize, fsize], initializer = initfun),\n",
    "    'cd3': tf.get_variable(\"cd3\", shape = [ksize, ksize, fsize, fsize], initializer = initfun),\n",
    "    'cd2': tf.get_variable(\"cd2\", shape = [ksize, ksize, fsize, fsize], initializer = initfun),\n",
    "    'cd1': tf.get_variable(\"cd1\", shape = [ksize, ksize, fsize, fsize], initializer = initfun),\n",
    "    'dense_inner_prod': tf.get_variable(\"dense_inner_prod\", shape= [1, 1, fsize, nrclass]\n",
    "                                       , initializer = initfun) # <= 1x1conv\n",
    "}\n",
    "biases = {\n",
    "    'be1': tf.get_variable(\"be1\", shape = [fsize], initializer = tf.constant_initializer(value=0.0)),\n",
    "    'be2': tf.get_variable(\"be2\", shape = [fsize], initializer = tf.constant_initializer(value=0.0)),\n",
    "    'be3': tf.get_variable(\"be3\", shape = [fsize], initializer = tf.constant_initializer(value=0.0)),\n",
    "    'be4': tf.get_variable(\"be4\", shape = [fsize], initializer = tf.constant_initializer(value=0.0)),\n",
    "    'bd4': tf.get_variable(\"bd4\", shape = [fsize], initializer = tf.constant_initializer(value=0.0)),\n",
    "    'bd3': tf.get_variable(\"bd3\", shape = [fsize], initializer = tf.constant_initializer(value=0.0)),\n",
    "    'bd2': tf.get_variable(\"bd2\", shape = [fsize], initializer = tf.constant_initializer(value=0.0)),\n",
    "    'bd1': tf.get_variable(\"bd1\", shape = [fsize], initializer = tf.constant_initializer(value=0.0))\n",
    "}"
   ]
  },
  {
   "cell_type": "code",
   "execution_count": null,
   "metadata": {
    "collapsed": false
   },
   "outputs": [],
   "source": []
  },
  {
   "cell_type": "code",
   "execution_count": 6,
   "metadata": {
    "collapsed": false
   },
   "outputs": [
    {
     "name": "stdout",
     "output_type": "stream",
     "text": [
      "Network ready\n"
     ]
    }
   ],
   "source": [
    "# input : [m, h, w, c]\n",
    "def Unpooling(inputOrg, size, mask=None):\n",
    "    # m, c, h, w order\n",
    "    m = size[0]\n",
    "    h = size[1]\n",
    "    w = size[2]\n",
    "    c = size[3]\n",
    "    input = tf.transpose(inputOrg, [0, 3, 1, 2])\n",
    "    x = tf.reshape(input, [-1, 1])\n",
    "    k = np.float32(np.array([1.0, 1.0]).reshape([1,-1]))\n",
    "    output = tf.matmul(x, k)\n",
    "    output = tf.reshape(output,[-1, c, h, w * 2])\n",
    "    # m, c, w, h\n",
    "    xx = tf.transpose(output, [0, 1, 3, 2])\n",
    "    xx = tf.reshape(xx,[-1, 1])\n",
    "    output = tf.matmul(xx, k)\n",
    "    # m, c, w, h\n",
    "    output = tf.reshape(output, [-1, c, w * 2, h * 2])\n",
    "    output = tf.transpose(output, [0, 3, 2, 1])\n",
    "    outshape = tf.pack([m, h * 2, w * 2, c])\n",
    "    if mask != None:\n",
    "        dense_mask = tf.sparse_to_dense(mask, outshape, output, 0)\n",
    "        return output, dense_mask\n",
    "    else:\n",
    "        return output\n",
    "\n",
    "# DeconvNet Model\n",
    "def Model(_X, _W, _b, _keepprob):\n",
    "    use_bias = 1\n",
    "    # Encoder 128x128\n",
    "    encoder1 = tf.nn.conv2d(_X, _W['ce1'], strides=[1, 1, 1, 1], padding='SAME')\n",
    "    if use_bias:\n",
    "        encoder1 = tf.nn.bias_add(encoder1, _b['be1'])\n",
    "    mean, var = tf.nn.moments(encoder1, [0, 1, 2])\n",
    "    encoder1 = tf.nn.batch_normalization(encoder1, mean, var, 0, 1, 0.0001)\n",
    "    encoder1 = tf.nn.relu(encoder1)\n",
    "    encoder1 = tf.nn.max_pool(encoder1, ksize=[1, 2, 2, 1], strides=[1, 2, 2, 1], padding='SAME')\n",
    "    encoder1 = tf.nn.dropout(encoder1, _keepprob)\n",
    "    # 64x64\n",
    "    encoder2 = tf.nn.conv2d(encoder1, _W['ce2'], strides=[1, 1, 1, 1], padding='SAME')\n",
    "    if use_bias:\n",
    "        encoder2 = tf.nn.bias_add(encoder2, _b['be2'])\n",
    "    mean, var = tf.nn.moments(encoder1, [0, 1, 2])\n",
    "    encoder2 = tf.nn.batch_normalization(encoder2, mean, var, 0, 1, 0.0001)\n",
    "    encoder2 = tf.nn.relu(encoder2)\n",
    "    encoder2 = tf.nn.max_pool(encoder2, ksize=[1, 2, 2, 1], strides=[1, 2, 2, 1], padding='SAME')\n",
    "    encoder2 = tf.nn.dropout(encoder2, _keepprob)\n",
    "    # 32x32\n",
    "    encoder3 = tf.nn.conv2d(encoder2, _W['ce3'], strides=[1, 1, 1, 1], padding='SAME')\n",
    "    if use_bias:\n",
    "        encoder3 = tf.nn.bias_add(encoder3, _b['be3'])\n",
    "    mean, var = tf.nn.moments(encoder3, [0, 1, 2])\n",
    "    encoder3 = tf.nn.batch_normalization(encoder3, mean, var, 0, 1, 0.0001)\n",
    "    encoder3 = tf.nn.relu(encoder3)\n",
    "    encoder3 = tf.nn.max_pool(encoder3, ksize=[1, 2, 2, 1], strides=[1, 2, 2, 1], padding='SAME')\n",
    "    encoder3 = tf.nn.dropout(encoder3, _keepprob)\n",
    "    # 16x16\n",
    "    encoder4 = tf.nn.conv2d(encoder3, _W['ce4'], strides=[1, 1, 1, 1], padding='SAME')\n",
    "    if use_bias:\n",
    "        encoder4 = tf.nn.bias_add(encoder4, _b['be4'])\n",
    "    mean, var = tf.nn.moments(encoder4, [0, 1, 2])\n",
    "    encoder4 = tf.nn.batch_normalization(encoder4, mean, var, 0, 1, 0.0001)\n",
    "    encoder4 = tf.nn.relu(encoder4)\n",
    "    encoder4 = tf.nn.max_pool(encoder4, ksize=[1, 2, 2, 1], strides=[1, 2, 2, 1], padding='SAME')\n",
    "    encoder4 = tf.nn.dropout(encoder4, _keepprob)\n",
    "    # 8x8\n",
    "\n",
    "    # Decoder 8x8 (128/16 = 8) fsize: 64\n",
    "    decoder4 = Unpooling(encoder4, [tf.shape(_X)[0], height / 16, width / 16, fsize])\n",
    "    decoder4 = tf.nn.conv2d(decoder4, _W['cd4'], strides=[1, 1, 1, 1], padding='SAME')\n",
    "    if use_bias:\n",
    "        decoder4 = tf.nn.bias_add(decoder4, _b['bd4'])\n",
    "    mean, var = tf.nn.moments(decoder4, [0, 1, 2])\n",
    "    decoder4 = tf.nn.batch_normalization(decoder4, mean, var, 0, 1, 0.0001)\n",
    "    decoder4 = tf.nn.relu(decoder4)\n",
    "    decoder4 = tf.nn.dropout(decoder4, _keepprob)\n",
    "    # 16x16\n",
    "    decoder3 = Unpooling(encoder3, [tf.shape(_X)[0], height/8, width/8, fsize])\n",
    "    decoder3 = tf.nn.conv2d(decoder3, _W['cd3'], strides=[1, 1, 1, 1], padding='SAME')\n",
    "    if use_bias:\n",
    "        decoder3 = tf.nn.bias_add(decoder3, _b['bd3'])\n",
    "    mean, var = tf.nn.moments(decoder3, [0, 1, 2])\n",
    "    decoder3 = tf.nn.batch_normalization(decoder3, mean, var, 0, 1, 0.0001)\n",
    "    decoder3 = tf.nn.relu(decoder3)\n",
    "    decoder3 = tf.nn.dropout(decoder3, _keepprob)\n",
    "    # 32x32\n",
    "    decoder2 = Unpooling(decoder3, [tf.shape(_X)[0], height/4, width/4, fsize])\n",
    "    decoder2 = tf.nn.conv2d(decoder2, _W['cd2'], strides=[1, 1, 1, 1], padding='SAME')\n",
    "    if use_bias:\n",
    "        decoder2 = tf.nn.bias_add(decoder2, _b['bd2'])\n",
    "    mean, var = tf.nn.moments(decoder2, [0, 1, 2])\n",
    "    decoder2 = tf.nn.batch_normalization(decoder2, mean, var, 0, 1, 0.0001)\n",
    "    decoder2 = tf.nn.relu(decoder2)\n",
    "    decoder2 = tf.nn.dropout(decoder2, _keepprob)\n",
    "    # 64x64\n",
    "    decoder1 = Unpooling(decoder2, [tf.shape(_X)[0], height / 2, width / 2, fsize])\n",
    "    decoder1 = tf.nn.conv2d(decoder1, _W['cd1'], strides=[1, 1, 1, 1], padding='SAME')\n",
    "    if use_bias:\n",
    "        decoder1 = tf.nn.bias_add(decoder1, _b['bd1'])\n",
    "    mean, var = tf.nn.moments(decoder1, [0, 1, 2])\n",
    "    decoder1 = tf.nn.batch_normalization(decoder1, mean, var, 0, 1, 0.0001)\n",
    "    decoder1 = tf.nn.relu(decoder1)\n",
    "    decoder1 = tf.nn.dropout(decoder1, _keepprob)\n",
    "    # 128x128\n",
    "    output = tf.nn.conv2d(decoder1, _W['dense_inner_prod'], strides=[1, 1, 1, 1], padding='SAME')\n",
    "    return output\n",
    "\n",
    "print (\"Network ready\")"
   ]
  },
  {
   "cell_type": "markdown",
   "metadata": {},
   "source": [
    "# Define functions"
   ]
  },
  {
   "cell_type": "code",
   "execution_count": null,
   "metadata": {
    "collapsed": false
   },
   "outputs": [
    {
     "name": "stdout",
     "output_type": "stream",
     "text": [
      "Functions ready\n"
     ]
    }
   ],
   "source": [
    "pred = Model(x, weights, biases, keepprob)\n",
    "lin_pred = tf.reshape(pred, shape=[-1, nrclass])\n",
    "lin_y = tf.reshape(y, shape=[-1, nrclass])\n",
    "cost = tf.reduce_mean(tf.nn.softmax_cross_entropy_with_logits(lin_pred, lin_y))\n",
    "# Class label\n",
    "predmax = tf.argmax(pred, 3)\n",
    "ymax = tf.argmax(y, 3)\n",
    "# Accuracy\n",
    "corr = tf.equal(tf.argmax(y,3), tf.argmax(pred, 3)) \n",
    "accr = tf.reduce_mean(tf.cast(corr, \"float\"))\n",
    "# Optimizer\n",
    "optm = tf.train.AdamOptimizer(0.0001).minimize(cost)\n",
    "batch_size = 128\n",
    "n_epochs = 1000\n",
    "\n",
    "print (\"Functions ready\")"
   ]
  },
  {
   "cell_type": "markdown",
   "metadata": {},
   "source": [
    "# Real optimization starts here"
   ]
  },
  {
   "cell_type": "code",
   "execution_count": null,
   "metadata": {
    "collapsed": false
   },
   "outputs": [
    {
     "name": "stdout",
     "output_type": "stream",
     "text": [
      "checkpoint: None\n",
      "Couldn't find checkpoint to restore from. Starting over.\n"
     ]
    }
   ],
   "source": [
    "resumeTraining = True\n",
    "with tf.Session() as sess:\n",
    "    # you need to initialize all variables\n",
    "    tf.initialize_all_variables().run()\n",
    "    saver = tf.train.Saver()\n",
    "    checkpoint = tf.train.latest_checkpoint(\"nets/semseg_basic\")\n",
    "    print (\"checkpoint: %s\" % (checkpoint))\n",
    "    if resumeTraining == False:\n",
    "        print \"Start from scratch\"\n",
    "    elif  checkpoint:\n",
    "        print \"Restoring from checkpoint\", checkpoint\n",
    "        saver.restore(sess, checkpoint)\n",
    "    else:\n",
    "        print \"Couldn't find checkpoint to restore from. Starting over.\"\n",
    "    \n",
    "    for epoch_i in range(n_epochs):\n",
    "        trainLoss = []; trainAcc = []\n",
    "        num_batch = int(ntrain/batch_size)+1\n",
    "        for _ in range(num_batch):\n",
    "            randidx = np.random.randint(ntrain, size=batch_size)\n",
    "            batchData = trainData[randidx]\n",
    "            batchLabel = trainLabelOneHot[randidx]\n",
    "            sess.run(optm, feed_dict={x: batchData, y: batchLabel, keepprob: 0.7}) # <== Optm is done here!\n",
    "            trainLoss.append(sess.run(cost, feed_dict={x: batchData, y: batchLabel, keepprob: 1.}))\n",
    "            trainAcc.append(sess.run(accr, feed_dict={x: batchData, y: batchLabel, keepprob: 1.}))\n",
    "        # Average loss and accuracy\n",
    "        trainLoss = np.mean(trainLoss)\n",
    "        trainAcc = np.mean(trainAcc)\n",
    "        # Run test\n",
    "        valLoss = sess.run(cost, feed_dict={x: testData, y: testLabelOneHot, keepprob: 1.})\n",
    "        valAcc = sess.run(accr, feed_dict={x: testData, y: testLabelOneHot, keepprob: 1.})\n",
    "        print (\"[%02d/%02d] trainLoss: %.4f trainAcc: %.2f valLoss: %.4f valAcc: %.2f\" \n",
    "               % (epoch_i, n_epochs, trainLoss, trainAcc, valLoss, valAcc))\n",
    "        # Save snapshot\n",
    "        if resumeTraining and epoch_i % 10 == 0:\n",
    "            # Save\n",
    "            saver.save(sess, 'nets/semseg_basic/progress', global_step = epoch_i)\n",
    "            # Train data\n",
    "            index = np.random.randint(trainData.shape[0])\n",
    "            refimg = trainData[index, :, :, :].reshape(height, width, 3)\n",
    "            batchData = trainData[index:index+1]\n",
    "            batchLabel = trainLabelOneHot[index:index+1]\n",
    "            predMaxOut = sess.run(predmax, feed_dict={x: batchData, y: batchLabel, keepprob:1.})\n",
    "            yMaxOut = sess.run(ymax, feed_dict={x: batchData, y: batchLabel, keepprob:1.})\n",
    "            gtimg = yMaxOut[0, :, :].reshape(height, width)\n",
    "            errimg = gtimg - predMaxOut[0, :, :].reshape(height, width);\n",
    "            # Plot\n",
    "            xs = np.linspace(0, 140, 128); ys = np.linspace(140, 0, 128)\n",
    "            plt.figure(figsize=(10, 10)) \n",
    "            plt.subplot(2, 2, 1); plt.imshow(refimg); plt.title('Input')\n",
    "            plt.subplot(2, 2, 2); plt.pcolor(xs, ys, gtimg, vmin=0, vmax=nrclass); plt.title('Ground truth')\n",
    "            plt.subplot(2, 2, 3); plt.pcolor(xs, ys, predMaxOut[0, :, :].reshape(height, width), vmin=0, vmax=nrclass); plt.title('[Training] Prediction')\n",
    "            plt.subplot(2, 2, 4); plt.imshow(np.abs(errimg) > 0.5); plt.title('Error')\n",
    "            plt.show() \n",
    "            # Test data\n",
    "            index = np.random.randint(testData.shape[0])\n",
    "            batchData = testData[index:index+1]\n",
    "            batchLabel = testLabelOneHot[index:index+1]\n",
    "            predMaxOut = sess.run(predmax, feed_dict={x: batchData, y: batchLabel, keepprob:1.})\n",
    "            yMaxOut = sess.run(ymax, feed_dict={x: batchData, y: batchLabel, keepprob:1.})\n",
    "            refimg = testData[index, :, :, :].reshape(height, width, 3)\n",
    "            gtimg = yMaxOut[0, :, :].reshape(height, width)\n",
    "            errimg = gtimg - predMaxOut[0, :, :].reshape(height, width)\n",
    "            # Plot\n",
    "            plt.figure(figsize=(10, 10)) \n",
    "            plt.subplot(2, 2, 1); plt.imshow(refimg); plt.title('Input')\n",
    "            plt.subplot(2, 2, 2); plt.pcolor(xs, ys, gtimg, vmin=0, vmax=nrclass);  plt.title('Ground truth')\n",
    "            plt.subplot(2, 2, 3); plt.pcolor(xs, ys, predMaxOut[0, :, :].reshape(height, width), vmin=0, vmax=nrclass); plt.title('[Validation] Prediction')\n",
    "            plt.subplot(2, 2, 4); plt.imshow(np.abs(errimg) > 0.5); plt.title('Error')\n",
    "            plt.show()\n",
    "\n",
    "print (\"Done\")"
   ]
  }
 ],
 "metadata": {
  "kernelspec": {
   "display_name": "Python 2",
   "language": "python",
   "name": "python2"
  },
  "language_info": {
   "codemirror_mode": {
    "name": "ipython",
    "version": 2
   },
   "file_extension": ".py",
   "mimetype": "text/x-python",
   "name": "python",
   "nbconvert_exporter": "python",
   "pygments_lexer": "ipython2",
   "version": "2.7.6"
  }
 },
 "nbformat": 4,
 "nbformat_minor": 0
}
